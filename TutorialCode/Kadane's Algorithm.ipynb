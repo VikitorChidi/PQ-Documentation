{
 "cells": [
  {
   "cell_type": "code",
   "execution_count": 1,
   "metadata": {},
   "outputs": [],
   "source": [
    "def Kadane(nums):\n",
    "    max_current = max_global = nums[0]\n",
    "    for i in range(1, len(nums)):\n",
    "        max_current = max(nums[i], max_current + nums[i])\n",
    "        if max_current > max_global:\n",
    "            max_global = max_current\n",
    "        else:\n",
    "            return 0\n",
    "    return max_global"
   ]
  },
  {
   "cell_type": "code",
   "execution_count": 4,
   "metadata": {},
   "outputs": [
    {
     "name": "stdout",
     "output_type": "stream",
     "text": [
      "10\n"
     ]
    }
   ],
   "source": [
    "nums = [2, 3, 5, 7]\n",
    "print(Kadane(nums))"
   ]
  }
 ],
 "metadata": {
  "interpreter": {
   "hash": "280c69e192096dbf5e0114d23531d05abe687d28e6fdd5e808a52b9bd3aa5d06"
  },
  "kernelspec": {
   "display_name": "Python 3.9.6 64-bit",
   "language": "python",
   "name": "python3"
  },
  "language_info": {
   "codemirror_mode": {
    "name": "ipython",
    "version": 3
   },
   "file_extension": ".py",
   "mimetype": "text/x-python",
   "name": "python",
   "nbconvert_exporter": "python",
   "pygments_lexer": "ipython3",
   "version": "3.9.6"
  },
  "orig_nbformat": 4
 },
 "nbformat": 4,
 "nbformat_minor": 2
}
