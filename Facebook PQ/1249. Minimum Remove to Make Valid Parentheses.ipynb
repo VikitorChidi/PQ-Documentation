{
 "cells": [
  {
   "cell_type": "code",
   "execution_count": null,
   "metadata": {},
   "outputs": [],
   "source": [
    "class Solution:\n",
    "    def minRemoveToMakeValid(self, s: str) -> str:\n",
    "        result = []\n",
    "        capacity = s.count(')')\n",
    "        opened = 0\n",
    "        \n",
    "        for char in s:\n",
    "            if char == '(':\n",
    "                if opened == capacity: continue\n",
    "                opened += 1\n",
    "            elif char == ')':\n",
    "                capacity -= 1\n",
    "                if not opened: continue\n",
    "                opened -= 1\n",
    "            result.append(char)\n",
    "        return ''.join(result)\n",
    "                    \n",
    "                        "
   ]
  }
 ],
 "metadata": {
  "language_info": {
   "name": "python"
  },
  "orig_nbformat": 4
 },
 "nbformat": 4,
 "nbformat_minor": 2
}
